{
 "cells": [
  {
   "cell_type": "markdown",
   "metadata": {},
   "source": [
    "# Tarea 3: Algoritmos y complejidad Ejercicios Unidad 01-B\n",
    "\n",
    "**Nombre:** Alexis Bautista  \n",
    "**Fecha de entrega:** 30 de octubre de 2024  \n",
    "**Materia:** Metodos Númericos (ICCD412) GR1CC"
   ]
  },
  {
   "cell_type": "markdown",
   "metadata": {},
   "source": [
    "**Enlace del repositorio de github:**  https://github.com/alexis-bautista/Tarea-3-MN.git "
   ]
  },
  {
   "cell_type": "markdown",
   "metadata": {},
   "source": [
    "# Ejercicio 2\n",
    "\n",
    "La serie de Maclaurin para la función arcotangente converge para $−1 < 𝑥 ≤ 1$ y está dada por\n",
    "\n",
    "$$\\arctan x = \\lim_{n \\to \\infty} P_n(x) = \\lim_{n \\to \\infty} \\sum_{i=1}^{n} (-1)^{i+1} \\frac{x^{2i-1}}{2i-1}$$\n",
    "\n",
    "a. Utilice el hecho de que tan $\\pi⁄4 = 1$ para determinar el número $n$ de términos de la serie que se necesita sumar para garantizar que $|4𝑃_𝑛\n",
    "(1) − \\pi| < 10^{−3}$\n",
    "\n",
    "b. El lenguaje de programación C++ requiere que el valor de $\\pi$ se encuentre dentro de $10^{−10}$. ¿Cuántos términos de la serie se necesitarían sumar para obtener este grado de precisión?\n",
    "\n",
    "### Pseudocódigo\n",
    "\n",
    "```python\n",
    "def calcular_numeros_de_terminos(tolerancia):\n",
    "    pi = 3.141592653589793  # Valor de pi\n",
    "    P_n = 0  # Inicializar la suma de la serie\n",
    "    n = 0  # Contador de términos\n",
    "    error = float('inf')  # Inicializar el error como infinito\n",
    "\n",
    "    while error >= tolerancia:\n",
    "        n += 1  # Incrementar el número de términos\n",
    "        P_n += (-1) ** (n + 1) * (1 ** (2 * n - 1)) / (2 * n - 1)  # Calcular el término de la serie\n",
    "        error = abs(4 * P_n - pi)  # Calcular el error\n",
    "\n",
    "    return n  # Retornar el número de términos necesarios\n",
    "\n",
    "# Parte a\n",
    "n_10_3 = calcular_numeros_de_terminos(10**-3)\n",
    "imprimir(\"Número de términos necesarios para |4P_n(1) - pi| < 10^-3:\", n_10_3)\n",
    "\n",
    "# Parte b\n",
    "n_10_10 = calcular_numeros_de_terminos(10**-10)\n",
    "imprimir(\"Número de términos necesarios para |4P_n(1) - pi| < 10^-10:\", n_10_10)\n",
    "```"
   ]
  },
  {
   "cell_type": "markdown",
   "metadata": {},
   "source": [
    "### Codigo"
   ]
  },
  {
   "cell_type": "code",
   "execution_count": 14,
   "metadata": {},
   "outputs": [],
   "source": [
    "import math\n",
    "from decimal import Decimal, getcontext"
   ]
  },
  {
   "cell_type": "markdown",
   "metadata": {},
   "source": [
    "Función para calcular la serie de Maclaurin"
   ]
  },
  {
   "cell_type": "code",
   "execution_count": null,
   "metadata": {},
   "outputs": [],
   "source": [
    "def calcular_numeros_de_terminos(tolerancia):\n",
    "    getcontext().prec = 50  # Ajustar la precisión a 50 dígitos decimales\n",
    "    pi = Decimal(math.pi)\n",
    "    P_n = Decimal(0)  # Inicializar la suma de la serie\n",
    "    n = 0  # Contador de términos\n",
    "    error = Decimal('inf')  # Inicializar el error como infinito\n",
    "\n",
    "    while error >= tolerancia:\n",
    "        n += 1  # Incrementar el número de términos\n",
    "        # Calcular el término de la serie sin usar 1^(2*n - 1), que es siempre 1\n",
    "        termino = Decimal((-1) ** (n + 1)) / Decimal(2 * n - 1)\n",
    "        P_n += termino  # Actualizar la suma con el término actual\n",
    "        error = abs(4 * P_n - pi)  # Calcular el error usando Decimal\n",
    "\n",
    "    return n  # Retornar el número de términos necesarios\n"
   ]
  },
  {
   "cell_type": "markdown",
   "metadata": {},
   "source": [
    "a) Determinar el número de términos para una precisión de 10^-3"
   ]
  },
  {
   "cell_type": "code",
   "execution_count": 16,
   "metadata": {},
   "outputs": [
    {
     "name": "stdout",
     "output_type": "stream",
     "text": [
      "Número de términos necesarios para |4P_n(1) - pi| < 10^-3: 1000\n"
     ]
    }
   ],
   "source": [
    "n_10_3 = calcular_numeros_de_terminos(Decimal('1e-3'))\n",
    "print(\"Número de términos necesarios para |4P_n(1) - pi| < 10^-3:\", n_10_3)"
   ]
  },
  {
   "cell_type": "markdown",
   "metadata": {},
   "source": [
    "b) Determinar el número de términos para una precisión de 10^-10"
   ]
  },
  {
   "cell_type": "code",
   "execution_count": 23,
   "metadata": {},
   "outputs": [
    {
     "ename": "KeyboardInterrupt",
     "evalue": "",
     "output_type": "error",
     "traceback": [
      "\u001b[1;31m---------------------------------------------------------------------------\u001b[0m",
      "\u001b[1;31mKeyboardInterrupt\u001b[0m                         Traceback (most recent call last)",
      "Cell \u001b[1;32mIn[23], line 1\u001b[0m\n\u001b[1;32m----> 1\u001b[0m n_10_10 \u001b[38;5;241m=\u001b[39m \u001b[43mcalcular_numeros_de_terminos\u001b[49m\u001b[43m(\u001b[49m\u001b[43mDecimal\u001b[49m\u001b[43m(\u001b[49m\u001b[38;5;124;43m'\u001b[39;49m\u001b[38;5;124;43m1e-10\u001b[39;49m\u001b[38;5;124;43m'\u001b[39;49m\u001b[43m)\u001b[49m\u001b[43m)\u001b[49m\n\u001b[0;32m      2\u001b[0m \u001b[38;5;28mprint\u001b[39m(\u001b[38;5;124m\"\u001b[39m\u001b[38;5;124mNúmero de términos necesarios para |4P_n(1) - pi| < 10^-10:\u001b[39m\u001b[38;5;124m\"\u001b[39m, n_10_10)\n",
      "Cell \u001b[1;32mIn[22], line 8\u001b[0m, in \u001b[0;36mcalcular_numeros_de_terminos\u001b[1;34m(tolerancia)\u001b[0m\n\u001b[0;32m      5\u001b[0m n \u001b[38;5;241m=\u001b[39m \u001b[38;5;241m0\u001b[39m  \u001b[38;5;66;03m# Contador de términos\u001b[39;00m\n\u001b[0;32m      6\u001b[0m error \u001b[38;5;241m=\u001b[39m Decimal(\u001b[38;5;124m'\u001b[39m\u001b[38;5;124minf\u001b[39m\u001b[38;5;124m'\u001b[39m)  \u001b[38;5;66;03m# Inicializar el error como infinito\u001b[39;00m\n\u001b[1;32m----> 8\u001b[0m \u001b[38;5;28;01mwhile\u001b[39;00m error \u001b[38;5;241m>\u001b[39m\u001b[38;5;241m=\u001b[39m tolerancia:\n\u001b[0;32m      9\u001b[0m     n \u001b[38;5;241m+\u001b[39m\u001b[38;5;241m=\u001b[39m \u001b[38;5;241m1\u001b[39m  \u001b[38;5;66;03m# Incrementar el número de términos\u001b[39;00m\n\u001b[0;32m     10\u001b[0m     \u001b[38;5;66;03m# Calcular el término de la serie sin usar 1^(2*n - 1), que es siempre 1\u001b[39;00m\n",
      "\u001b[1;31mKeyboardInterrupt\u001b[0m: "
     ]
    }
   ],
   "source": [
    "n_10_10 = calcular_numeros_de_terminos(Decimal('1e-10'))\n",
    "print(\"Número de términos necesarios para |4P_n(1) - pi| < 10^-10:\", n_10_10)"
   ]
  },
  {
   "cell_type": "markdown",
   "metadata": {},
   "source": [
    " **NOTA: El error es causado por un desbordamiento en el cálculo de los términos de la serie cuando x se eleva a una potencia alta en cada iteración.**"
   ]
  },
  {
   "cell_type": "markdown",
   "metadata": {},
   "source": [
    "## Ejercicio 3\n",
    "\n",
    "Otra fórmula para calcular $\\pi$ se puede deducir a partir de la identidad $\\pi⁄4 = 4 \\arctan 1/5 − \\arctan 1/239$.  \n",
    "Determine el número de términos que se deben sumar para garantizar una aproximación $\\pi$ dentro de $10^{−3}$.\n",
    "\n",
    "### Pseudocódigo\n",
    "\n",
    "``` python\n",
    "# Importar la biblioteca matemática para obtener el valor de pi\n",
    "IMPORTAR math\n",
    "\n",
    "# Definir una función para calcular la serie de Maclaurin de arctan(x)\n",
    "FUNCIÓN calcular_arctan(x, n):\n",
    "    inicializar suma = 0  # Inicializar la suma de la serie\n",
    "    PARA i desde 1 HASTA n HACER:\n",
    "        # Sumar el término actual con alternancia de signo\n",
    "        término = ((-1) ** (i + 1)) * (x ** (2 * i - 1)) / (2 * i - 1)\n",
    "        suma = suma + término  # Actualizar la suma\n",
    "    RETORNAR suma\n",
    "\n",
    "# Definir la tolerancia deseada\n",
    "tolerancia = 10 ** -3\n",
    "\n",
    "# Inicializar el número de términos\n",
    "n = 1\n",
    "error = tolerancia  # Inicializar el error para entrar al bucle\n",
    "\n",
    "# Bucle para encontrar n que cumpla con la precisión deseada\n",
    "MIENTRAS error >= tolerancia HACER:\n",
    "    # Calcular Pn(1/5) y Pn(1/239) utilizando la función\n",
    "    Pn_1_5 = calcular_arctan(1 / 5, n)\n",
    "    Pn_1_239 = calcular_arctan(1 / 239, n)\n",
    "    \n",
    "    # Calcular la aproximación de pi\n",
    "    pi_aproximado = 4 * Pn_1_5 - Pn_1_239\n",
    "    \n",
    "    # Calcular el error comparando la aproximación con el valor real de pi\n",
    "    error = |pi_aproximado - math.pi|\n",
    "    \n",
    "    # Incrementar n para el próximo término\n",
    "    n = n + 1\n",
    "\n",
    "# Al final, n tendrá el valor necesario para cumplir con la precisión de 10^-3\n",
    "IMPRIMIR \"Se necesitan\", n - 1, \"términos para garantizar que la aproximación de pi esté dentro de 10^-3\"\n",
    "```"
   ]
  },
  {
   "cell_type": "markdown",
   "metadata": {},
   "source": [
    "### Codigo "
   ]
  },
  {
   "cell_type": "code",
   "execution_count": 13,
   "metadata": {},
   "outputs": [
    {
     "name": "stdout",
     "output_type": "stream",
     "text": [
      "Se necesitan 2 términos para garantizar que la aproximación de pi esté dentro de 10^-3\n",
      "La aproximación de pi con 2 términos es 3.1405970293260603\n"
     ]
    }
   ],
   "source": [
    "import math\n",
    "\n",
    "# Definir una función para calcular la serie de Maclaurin de arctan(x)\n",
    "def calcular_arctan(x, n):\n",
    "    suma = 0  # Inicializar la suma de la serie\n",
    "    # Calcular la suma de la serie hasta n términos\n",
    "    for i in range(1, n + 1):\n",
    "        # Sumar el término actual con alternancia de signo\n",
    "        termino = ((-1) ** (i + 1)) * (x ** (2 * i - 1)) / (2 * i - 1)\n",
    "        suma += termino  # Actualizar la suma\n",
    "    return suma\n",
    "\n",
    "# Definir la tolerancia deseada\n",
    "tolerancia = 10 ** -3\n",
    "\n",
    "# Inicializar el número de términos\n",
    "n = 1\n",
    "error = tolerancia  # Inicializar el error para entrar al bucle\n",
    "\n",
    "# Bucle para encontrar n que cumpla con la precisión deseada\n",
    "while error >= tolerancia:\n",
    "    # Calcular Pn(1/5) y Pn(1/239) utilizando la función\n",
    "    Pn_1_5 = calcular_arctan(1 / 5, n)\n",
    "    Pn_1_239 = calcular_arctan(1 / 239, n)\n",
    "    \n",
    "    # Calcular la aproximación de pi\n",
    "    pi_aproximado = 4 * (4 * Pn_1_5 - Pn_1_239)\n",
    "    \n",
    "    # Calcular el error comparando la aproximación con el valor real de pi\n",
    "    error = abs(pi_aproximado - math.pi)\n",
    "    \n",
    "    # Incrementar n para el próximo término\n",
    "    n += 1\n",
    "\n",
    "# Al final, n tendrá el valor necesario para cumplir con la precisión de 10^-3\n",
    "print(f\"Se necesitan {n - 1} términos para garantizar que la aproximación de pi esté dentro de 10^-3\")\n",
    "print(f\"La aproximación de pi con {n - 1} términos es {pi_aproximado}\")\n"
   ]
  },
  {
   "cell_type": "markdown",
   "metadata": {},
   "source": [
    "## Ejercicio 5\n",
    "\n",
    "a. ¿Cuántas multiplicaciones y sumas se requieren para determinar una suma de la forma\n",
    "$\\sum_{i=1}^{n} \\sum_{j=1}^{i} a_i b_j$?\n",
    "\n",
    "b. Modifique la suma en la parte a) a un formato equivalente que reduzca el número de cálculos.\n",
    "\n",
    "### Seudocódigo\n",
    "\n",
    "**Parte a:**\n",
    "\n",
    "``` python\n",
    "def calcular_operaciones(n):\n",
    "    multiplicaciones = 0\n",
    "    sumas = 0\n",
    "    \n",
    "    for i from 1 to n:\n",
    "        multiplicaciones += i  # Se realizan i multiplicaciones para cada i\n",
    "        sumas += (i - 1)  # Se realizan (i - 1) sumas para cada i\n",
    "\n",
    "    return multiplicaciones, sumas\n",
    "\n",
    "# Ejemplo de uso\n",
    "n = valor_de_n\n",
    "multiplicaciones, sumas = calcular_operaciones(n)\n",
    "imprimir(\"Multiplicaciones:\", multiplicaciones)\n",
    "imprimir(\"Sumas:\", sumas)\n",
    "```\n",
    "\n",
    "\n",
    "**Parte b:**\n",
    "\n",
    "``` python\n",
    "def calcular_operaciones_reducidas(n, b):\n",
    "    multiplicaciones = 0\n",
    "    sumas = 0\n",
    "    suma_b = 0  # Inicializar la suma de b_j\n",
    "\n",
    "    for i from 1 to n:\n",
    "        suma_b += b[i]  # Calcular la suma de b_j hasta j = i\n",
    "        multiplicaciones += 1  # Una multiplicación por a_i\n",
    "        sumas += suma_b  # Sumar el resultado de la suma_b a la suma total\n",
    "\n",
    "    return multiplicaciones, sumas\n",
    "\n",
    "# Ejemplo de uso\n",
    "n = valor_de_n\n",
    "b = arreglo_de_b  # Suponiendo que b es un arreglo de tamaño n\n",
    "multiplicaciones_reducidas, sumas_reducidas = calcular_operaciones_reducidas(n, b)\n",
    "imprimir(\"Multiplicaciones reducidas:\", multiplicaciones_reducidas)\n",
    "imprimir(\"Sumas reducidas:\", sumas_reducidas)\n",
    "```"
   ]
  },
  {
   "cell_type": "markdown",
   "metadata": {},
   "source": [
    "### Código\n",
    "\n",
    "a. Determinar el número de multiplicaciones y sumas"
   ]
  },
  {
   "cell_type": "code",
   "execution_count": 4,
   "metadata": {},
   "outputs": [
    {
     "name": "stdout",
     "output_type": "stream",
     "text": [
      "Multiplicaciones: 120\n",
      "Sumas: 105\n"
     ]
    }
   ],
   "source": [
    "def calcular_operaciones(n):\n",
    "    multiplicaciones = 0\n",
    "    sumas = 0\n",
    "    \n",
    "    for i in range(1, n + 1):\n",
    "        multiplicaciones += i  # Se realizan i multiplicaciones para cada i\n",
    "        sumas += (i - 1)  # Se realizan (i - 1) sumas para cada i\n",
    "\n",
    "    return multiplicaciones, sumas\n",
    "\n",
    "# Ejemplo de uso para parte a\n",
    "n = int(input(\"Ingrese el valor de n: \"))\n",
    "multiplicaciones, sumas = calcular_operaciones(n)\n",
    "print(\"Multiplicaciones:\", multiplicaciones)\n",
    "print(\"Sumas:\", sumas)"
   ]
  },
  {
   "cell_type": "markdown",
   "metadata": {},
   "source": [
    "b. Modificación de la suma para reducir cálculos"
   ]
  },
  {
   "cell_type": "code",
   "execution_count": 3,
   "metadata": {},
   "outputs": [
    {
     "name": "stdout",
     "output_type": "stream",
     "text": [
      "Multiplicaciones reducidas: 5\n",
      "Sumas reducidas: 45.0\n"
     ]
    }
   ],
   "source": [
    "def calcular_operaciones_reducidas(n, b):\n",
    "    multiplicaciones = 0\n",
    "    sumas = 0\n",
    "    suma_b = 0  # Inicializar la suma de b_j\n",
    "\n",
    "    for i in range(1, n + 1):\n",
    "        suma_b += b[i - 1]  # Calcular la suma de b_j hasta j = i (b es 0-indexado)\n",
    "        multiplicaciones += 1  # Una multiplicación por a_i\n",
    "        sumas += suma_b  # Sumar el resultado de la suma_b a la suma total\n",
    "\n",
    "    return multiplicaciones, sumas\n",
    "\n",
    "# Ejemplo de uso para parte b\n",
    "n = int(input(\"Ingrese el valor de n: \"))\n",
    "b = [float(input(f\"Ingrese el valor de b[{i}]: \")) for i in range(n)]  # Ingresar los valores de b\n",
    "\n",
    "# Calcular operaciones reducidas\n",
    "multiplicaciones_reducidas, sumas_reducidas = calcular_operaciones_reducidas(n, b)\n",
    "print(\"Multiplicaciones reducidas:\", multiplicaciones_reducidas)\n",
    "print(\"Sumas reducidas:\", sumas_reducidas)"
   ]
  },
  {
   "cell_type": "markdown",
   "metadata": {},
   "source": [
    "## Discusiones \n",
    "\n",
    "2. Las ecuaciones $(1.2)$ y $(1.3)$ en la sección 1.2 proporcionan formas alternativas para las raíces $𝑥1$ y $𝑥2$ de $𝑎𝑥^2 + 𝑏𝑥 + 𝑐 = 0$. Construya un algoritmo con entrada $𝑎, 𝑏, 𝑐 c$ y salida $𝑥1, 𝑥2$ que calcule las raíces $𝑥1$ y $𝑥2$ (que pueden ser iguales con conjugados complejos) mediante la mejor fórmula para cada raíz.\n",
    "\n",
    "### Seudocódigo\n",
    "\n",
    "``` python\n",
    "# Definir una función para calcular las raíces de la ecuación cuadrática\n",
    "FUNCIÓN calcular_raices(a, b, c):\n",
    "    # Calcular el discriminante\n",
    "    discriminante = b^2 - 4 * a * c\n",
    "    \n",
    "    # Verificar el tipo de discriminante para determinar las raíces\n",
    "    SI discriminante > 0 ENTONCES:\n",
    "        # Caso de raíces reales y distintas\n",
    "        SI b >= 0 ENTONCES:\n",
    "            x1 = (-b - sqrt(discriminante)) / (2 * a)\n",
    "            x2 = c / (a * x1)\n",
    "        SINO:\n",
    "            x1 = (-b + sqrt(discriminante)) / (2 * a)\n",
    "            x2 = c / (a * x1)\n",
    "    SINO SI discriminante == 0 ENTONCES:\n",
    "        # Caso de raíces reales e iguales\n",
    "        x1 = x2 = -b / (2 * a)\n",
    "    SINO:\n",
    "        # Caso de raíces complejas\n",
    "        parte_real = -b / (2 * a)\n",
    "        parte_imaginaria = sqrt(-discriminante) / (2 * a)\n",
    "        x1 = parte_real + parte_imaginaria * i\n",
    "        x2 = parte_real - parte_imaginaria * i\n",
    "\n",
    "    # Retornar las raíces calculadas\n",
    "    RETORNAR x1, x2\n",
    "\n",
    "# Solicitar los coeficientes a, b y c al usuario\n",
    "a, b, c = INPUT \"Ingrese los valores de a, b, c: \"\n",
    "\n",
    "# Verificar si a es diferente de cero para que sea una ecuación cuadrática\n",
    "SI a == 0 ENTONCES:\n",
    "    IMPRIMIR \"El valor de 'a' debe ser distinto de cero.\"\n",
    "SINO:\n",
    "    # Llamar a la función para calcular las raíces\n",
    "    x1, x2 = calcular_raices(a, b, c)\n",
    "    # Mostrar las raíces\n",
    "    IMPRIMIR \"Las raíces de la ecuación son: \", x1, \" y \", x2\n",
    "```"
   ]
  },
  {
   "cell_type": "markdown",
   "metadata": {},
   "source": [
    "### Codigo"
   ]
  },
  {
   "cell_type": "code",
   "execution_count": 11,
   "metadata": {},
   "outputs": [
    {
     "name": "stdout",
     "output_type": "stream",
     "text": [
      "Las raíces de la ecuación son: x1 = (-1.4+1.2409673645990857j), x2 = (-1.4-1.2409673645990857j)\n"
     ]
    }
   ],
   "source": [
    "import math\n",
    "import cmath  # Para manejar raíces complejas\n",
    "\n",
    "# Definir una función para calcular las raíces de la ecuación cuadrática\n",
    "def calcular_raices(a, b, c):\n",
    "    # Calcular el discriminante\n",
    "    discriminante = b**2 - 4 * a * c\n",
    "    \n",
    "    # Verificar el tipo de discriminante para determinar las raíces\n",
    "    if discriminante > 0:\n",
    "        # Caso de raíces reales y distintas\n",
    "        if b >= 0:\n",
    "            x1 = (-b - math.sqrt(discriminante)) / (2 * a)\n",
    "            x2 = c / (a * x1)\n",
    "        else:\n",
    "            x1 = (-b + math.sqrt(discriminante)) / (2 * a)\n",
    "            x2 = c / (a * x1)\n",
    "    elif discriminante == 0:\n",
    "        # Caso de raíces reales e iguales\n",
    "        x1 = x2 = -b / (2 * a)\n",
    "    else:\n",
    "        # Caso de raíces complejas\n",
    "        parte_real = -b / (2 * a)\n",
    "        parte_imaginaria = math.sqrt(-discriminante) / (2 * a)\n",
    "        x1 = complex(parte_real, parte_imaginaria)\n",
    "        x2 = complex(parte_real, -parte_imaginaria)\n",
    "\n",
    "    # Retornar las raíces calculadas\n",
    "    return x1, x2\n",
    "\n",
    "# Solicitar los coeficientes a, b y c al usuario\n",
    "try:\n",
    "    a = float(input(\"Ingrese el valor de a: \"))\n",
    "    b = float(input(\"Ingrese el valor de b: \"))\n",
    "    c = float(input(\"Ingrese el valor de c: \"))\n",
    "    \n",
    "    # Verificar si a es diferente de cero para que sea una ecuación cuadrática\n",
    "    if a == 0:\n",
    "        print(\"El valor de 'a' debe ser distinto de cero para que sea una ecuación cuadrática.\")\n",
    "    else:\n",
    "        # Llamar a la función para calcular las raíces\n",
    "        x1, x2 = calcular_raices(a, b, c)\n",
    "        # Mostrar las raíces\n",
    "        print(f\"Las raíces de la ecuación son: x1 = {x1}, x2 = {x2}\")\n",
    "except ValueError:\n",
    "    print(\"Por favor, ingrese valores numéricos válidos.\")\n"
   ]
  },
  {
   "cell_type": "code",
   "execution_count": null,
   "metadata": {},
   "outputs": [],
   "source": []
  }
 ],
 "metadata": {
  "kernelspec": {
   "display_name": "Python 3",
   "language": "python",
   "name": "python3"
  },
  "language_info": {
   "codemirror_mode": {
    "name": "ipython",
    "version": 3
   },
   "file_extension": ".py",
   "mimetype": "text/x-python",
   "name": "python",
   "nbconvert_exporter": "python",
   "pygments_lexer": "ipython3",
   "version": "3.12.7"
  }
 },
 "nbformat": 4,
 "nbformat_minor": 2
}
